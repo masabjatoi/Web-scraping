{
 "cells": [
  {
   "cell_type": "code",
   "execution_count": null,
   "id": "b2c78390-c007-45a7-9a91-6d6dbda83de8",
   "metadata": {},
   "outputs": [],
   "source": [
    "import requests\n",
    "from bs4 import BeautifulSoup\n",
    "\n",
    "books = []\n",
    "for i in range(1,51):\n",
    "    url = f\"https://books.toscrape.com/catalogue/page-{i}.html\"\n",
    "    response = requests.get(url)\n",
    "    response = response.content\n",
    "    soup = BeautifulSoup(response , \"html.parser\")\n",
    "    ol = soup.find(\"ol\")\n",
    "    articles = ol.find_all(\"article\" ,class_ = \"product_pod\")\n",
    "    \n",
    "    \n",
    "    for article in articles:\n",
    "        h3 = article.find(\"h3\")\n",
    "        atag = h3.find(\"a\")\n",
    "        title = atag.attrs[\"title\"]\n",
    "        stars = article.find(\"p\" )\n",
    "        stars= stars[\"class\"][1]\n",
    "        price = article.find(\"p\" , class_ = \"price_color\").text\n",
    "        price = float(price[1:])\n",
    "        books.append([title , price, stars])\n",
    "        # print(title)\n",
    "        \n",
    "        \n",
    "        # print(stars)"
   ]
  },
  {
   "cell_type": "code",
   "execution_count": null,
   "id": "51e3b946-a563-4a3f-af15-23176b55562f",
   "metadata": {},
   "outputs": [],
   "source": [
    "booksdata.to_excel(\"Books_data through webscraping.xlsx\")"
   ]
  },
  {
   "cell_type": "code",
   "execution_count": null,
   "id": "3c2b3de7-f669-4c6c-8f3c-dd58399e7b9e",
   "metadata": {},
   "outputs": [],
   "source": [
    "import pandas as pd\n",
    "booksdata = pd.DataFrame(books , columns = [\"Title\" , \"Price\" , \"Stars\"])\n",
    "from sqlalchemy import create_engine\n",
    "import pandas as pd\n",
    "\n",
    "engine = create_engine(\"mysql+mysqlconnector://root:@localhost/book_data\")\n",
    "\n",
    "file_path = \"Books_data through webscraping.xlsx\" \n",
    "newdata = pd.read_excel(file_path, engine=\"openpyxl\")\n",
    "\n",
    "newdata.to_sql(\"details\", con=engine, if_exists=\"replace\", index=False)\n",
    "\n",
    "print(\"Data successfully uploaded to the 'details' table.\")\n"
   ]
  }
 ],
 "metadata": {
  "kernelspec": {
   "display_name": "Python 3 (ipykernel)",
   "language": "python",
   "name": "python3"
  },
  "language_info": {
   "codemirror_mode": {
    "name": "ipython",
    "version": 3
   },
   "file_extension": ".py",
   "mimetype": "text/x-python",
   "name": "python",
   "nbconvert_exporter": "python",
   "pygments_lexer": "ipython3",
   "version": "3.11.7"
  }
 },
 "nbformat": 4,
 "nbformat_minor": 5
}
